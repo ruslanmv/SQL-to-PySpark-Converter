{
 "cells": [
  {
   "cell_type": "markdown",
   "id": "ae7e11ce",
   "metadata": {},
   "source": [
    "# SQL to Pyspark Convertor"
   ]
  },
  {
   "cell_type": "markdown",
   "id": "3fd979f9",
   "metadata": {},
   "source": [
    "Hello everyone , we are going to create several block codes to try to translate SQL queries into Pyspark."
   ]
  },
  {
   "cell_type": "code",
   "execution_count": 1,
   "id": "398658c2",
   "metadata": {},
   "outputs": [],
   "source": [
    "#!pip download moz_sql_parser"
   ]
  },
  {
   "cell_type": "code",
   "execution_count": 2,
   "id": "9580178e",
   "metadata": {},
   "outputs": [],
   "source": [
    "from moz_sql_parser import parse\n",
    "from moz_sql_parser import format\n",
    "import json"
   ]
  },
  {
   "cell_type": "code",
   "execution_count": 3,
   "id": "a86cb991",
   "metadata": {},
   "outputs": [],
   "source": [
    "def fn_from(value):\n",
    "    result_from=\"\"\n",
    "    if type(value) is str:\n",
    "        result_from = format({ \"from\": value })\n",
    "        result_from = result_from[5:]\n",
    "    elif type(value) is dict:\n",
    "        if \"name\" in value.keys():\n",
    "            result_from = result_from + value['value']+\".alias(\\\"\"+value['name']+\"\\\")\"\n",
    "        else:\n",
    "            result_from = result_from + value['value']+\"\"\n",
    "    elif type(value) is list:\n",
    "        for item_from in value:\n",
    "            if type(item_from) is dict:\n",
    "                if \"name\" in item_from.keys():\n",
    "                    result_from = result_from + item_from['value']+\".alias(\\\"\"+item_from['name']+\"\\\"),\"\n",
    "                else:\n",
    "                    result_from = result_from + item_from['value']+\",\"\n",
    "            elif type(item_from) is str:\n",
    "                result_from = result_from + item_from+\",\"\n",
    "    return result_from\n",
    "        \n",
    "\n",
    "def fn_select(value):\n",
    "    result_select=\"\"\n",
    "    if type(value) is str:\n",
    "        result_select = result_select + \"\\\"\"+value+\"\\\",\"\n",
    "    elif type(value) is dict:\n",
    "        if \"name\" in value.keys():\n",
    "            result_select = result_select + \"\\\"\"+value['value']+\"\\\".alias(\\\"\"+value['name']+\"\\\")\"\n",
    "        else:\n",
    "            result_select = result_select + \"\\\"\"+value['value']+\"\\\"\"\n",
    "    elif type(value) is list:\n",
    "        for item_select in value:\n",
    "            if type(item_select) is dict:\n",
    "                if type(item_select['value']) is dict:\n",
    "                    if \"name\" in item_select.keys():\n",
    "                        result_select = result_select + \"\\\"\"+item_select['name']+\"\\\",\"\n",
    "                    else:\n",
    "                        result_select = result_select + \"\\\"\"+item_select['value']+\"\\\".alias(\\\"\"+item_select['name']+\"\\\"),\"\n",
    "                else:\n",
    "                    result_select = result_select + \"\\\"\"+item_select['value']+\"\\\",\"\n",
    "    return result_select[:-1]\n",
    "\n",
    "def fn_where(value):\n",
    "    result_where=\"\"\n",
    "    result_where = format({ \"where\": value })[6:]\n",
    "    return result_where\n",
    "\n",
    "\n",
    "def fn_groupby(value):\n",
    "    result_groupby=\"\"\n",
    "    result_groupby = format({ \"groupby\": value })[9:]\n",
    "    return result_groupby\n",
    "\n",
    "def fn_agg(query):\n",
    "    v_parse = parse(query)\n",
    "    v_agg = \"\"\n",
    "    for i in v_parse[\"select\"]:\n",
    "        if type(i[\"value\"]) is dict:\n",
    "            for key,value in i[\"value\"].items():\n",
    "                v_agg = v_agg + (key+\"(\"+\"col(\\\"\"+str(value)+\"\\\")\"+\").alias('\"+i[\"name\"]+\"')\") +\",\"\n",
    "    v_agg = v_agg.replace(\"\\n\", \"\")\n",
    "    return v_agg[:-1]\n",
    "\n",
    "\n",
    "def fn_orderby(query):\n",
    "    v_parse = parse(query)\n",
    "    v_orderby_collist=\"\"\n",
    "    v_orderby = v_parse[\"orderby\"]\n",
    "    for i in v_orderby:\n",
    "        if i.get(\"sort\", \"asc\") == \"desc\":\n",
    "            v_sortorder = \"desc()\"\n",
    "        else:\n",
    "            v_sortorder = \"asc()\"\n",
    "        v_orderby_collist = v_orderby_collist + \"col(\\\"\"+str(i.get(\"value\", \"\"))+\"\\\").\" +v_sortorder+\",\"\n",
    "    return v_orderby_collist[:-1]\n",
    "\n",
    "\n",
    "def fn_limit(query):\n",
    "    v_parse = parse(query)\n",
    "    v_limit = v_parse[\"limit\"]\n",
    "    return v_limit\n",
    "\n",
    "\n",
    "def fn_genSQL(data):\n",
    "    v_fn_from = v_fn_where = v_fn_groupby = v_fn_agg = v_fn_select = v_fn_orderby = v_fn_limit = \"\"\n",
    "    for key,value in data.items():\n",
    "        # handle from\n",
    "        if str(key)==\"from\":\n",
    "            v_fn_from = fn_from(value)\n",
    "\n",
    "        #handle where\n",
    "        if str(key) ==\"where\":\n",
    "            v_fn_where = fn_where(value)\n",
    "\n",
    "        #handle groupby\n",
    "        if str(key) ==\"groupby\":\n",
    "            v_fn_groupby = fn_groupby(value)\n",
    "\n",
    "        #handle agg\n",
    "        if str(key) ==\"groupby\":\n",
    "            v_fn_agg = fn_agg(query)\n",
    "\n",
    "        #handle select\n",
    "        if str(key) ==\"select\":\n",
    "            v_fn_select = fn_select(value)\n",
    "\n",
    "        #handle sort\n",
    "        if str(key) ==\"orderby\":\n",
    "            v_fn_orderby = fn_orderby(query)\n",
    "\n",
    "        #handle limit\n",
    "        if str(key) ==\"limit\":\n",
    "            v_fn_limit = fn_limit(query)\n",
    "\n",
    "    v_final_stmt = \"\"\n",
    "    if v_fn_from:\n",
    "        v_final_stmt = v_final_stmt + v_fn_from\n",
    "    if v_fn_where:\n",
    "        v_final_stmt = v_final_stmt + \"\\n.filter(\\\"\"+v_fn_where+\"\\\")\"\n",
    "    if v_fn_groupby:\n",
    "        v_final_stmt = v_final_stmt + \"\\n.groupBy(\\\"\"+v_fn_groupby+\"\\\")\"\n",
    "    if v_fn_agg:\n",
    "        v_final_stmt = v_final_stmt + \"\\n.agg(\"+v_fn_agg+\"\\\")\"\n",
    "    if v_fn_select:\n",
    "        v_final_stmt = v_final_stmt + \"\\n.select(\"+v_fn_select+\")\"\n",
    "    if v_fn_orderby:\n",
    "        v_final_stmt = v_final_stmt + \"\\n.orderBy(\"+v_fn_orderby+\")\"\n",
    "    if v_fn_limit:\n",
    "        v_final_stmt = v_final_stmt + \"\\n.limit(\"+str(v_fn_limit)+\")\"\n",
    "    \n",
    "    return v_final_stmt"
   ]
  },
  {
   "cell_type": "markdown",
   "id": "5ede28b9",
   "metadata": {},
   "source": [
    "# First Case\n",
    "Commands used:\n",
    "- GroupBy\n",
    "- OrderBy\n",
    "- Limit"
   ]
  },
  {
   "cell_type": "code",
   "execution_count": 4,
   "id": "6d308a6d",
   "metadata": {},
   "outputs": [],
   "source": [
    "query = \"\"\"\n",
    "SELECT product_id,\n",
    "    Count(star_rating) as total_rating,\n",
    "    Max(star_rating)   AS best_rating,\n",
    "    Min(star_rating)   AS worst_rating\n",
    "FROM   tbl_books\n",
    "WHERE  verified_purchase = 'Y'\n",
    "    AND review_date BETWEEN '1995-07-22' AND '2015-08-31'\n",
    "    AND marketplace IN ( 'DE', 'US', 'UK', 'FR', 'JP' )\n",
    "GROUP  BY product_id\n",
    "ORDER  BY total_rating asc,product_id desc,best_rating\n",
    "LIMIT  10;\n",
    "\"\"\""
   ]
  },
  {
   "cell_type": "code",
   "execution_count": 5,
   "id": "70e06fff",
   "metadata": {},
   "outputs": [],
   "source": [
    "v_parse = parse(query)\n",
    "v_json = json.loads(json.dumps(v_parse,indent=4))"
   ]
  },
  {
   "cell_type": "code",
   "execution_count": 6,
   "id": "c220f3f4",
   "metadata": {},
   "outputs": [
    {
     "data": {
      "text/plain": [
       "{'select': [{'value': 'product_id'},\n",
       "  {'value': {'count': 'star_rating'}, 'name': 'total_rating'},\n",
       "  {'value': {'max': 'star_rating'}, 'name': 'best_rating'},\n",
       "  {'value': {'min': 'star_rating'}, 'name': 'worst_rating'}],\n",
       " 'from': 'tbl_books',\n",
       " 'where': {'and': [{'eq': ['verified_purchase', {'literal': 'Y'}]},\n",
       "   {'between': ['review_date',\n",
       "     {'literal': '1995-07-22'},\n",
       "     {'literal': '2015-08-31'}]},\n",
       "   {'in': ['marketplace', {'literal': ['DE', 'US', 'UK', 'FR', 'JP']}]}]},\n",
       " 'groupby': {'value': 'product_id'},\n",
       " 'orderby': [{'value': 'total_rating', 'sort': 'asc'},\n",
       "  {'value': 'product_id', 'sort': 'desc'},\n",
       "  {'value': 'best_rating'}],\n",
       " 'limit': 10}"
      ]
     },
     "execution_count": 6,
     "metadata": {},
     "output_type": "execute_result"
    }
   ],
   "source": [
    "v_json"
   ]
  },
  {
   "cell_type": "code",
   "execution_count": 7,
   "id": "784fe477",
   "metadata": {
    "scrolled": true
   },
   "outputs": [
    {
     "name": "stdout",
     "output_type": "stream",
     "text": [
      "tbl_books\n",
      ".filter(\"verified_purchase = 'Y' AND review_date BETWEEN '1995-07-22' AND '2015-08-31' AND marketplace IN ('DE', 'US', 'UK', 'FR', 'JP')\")\n",
      ".groupBy(\"product_id\")\n",
      ".agg(count(col(\"star_rating\")).alias('total_rating'),max(col(\"star_rating\")).alias('best_rating'),min(col(\"star_rating\")).alias('worst_rating')\")\n",
      ".select(\"product_id\",\"total_rating\",\"best_rating\",\"worst_rating\")\n",
      ".orderBy(col(\"total_rating\").asc(),col(\"product_id\").desc(),col(\"best_rating\").asc())\n",
      ".limit(10)\n"
     ]
    }
   ],
   "source": [
    "print(fn_genSQL(v_json))"
   ]
  },
  {
   "cell_type": "markdown",
   "id": "d0be69a6",
   "metadata": {},
   "source": [
    "# Second Case\n",
    "Commands used:\n",
    "- Join"
   ]
  },
  {
   "cell_type": "code",
   "execution_count": 8,
   "id": "7f31d952",
   "metadata": {},
   "outputs": [],
   "source": [
    "query = \"\"\"\n",
    "SELECT Orders.OrderID, Customers.CustomerName, Orders.OrderDate\n",
    "FROM Orders\n",
    "INNER JOIN Customers ON Orders.CustomerID=Customers.CustomerID;\n",
    "\"\"\""
   ]
  },
  {
   "cell_type": "code",
   "execution_count": 9,
   "id": "3ee057b1",
   "metadata": {},
   "outputs": [],
   "source": [
    "v_parse = parse(query)\n",
    "v_json = json.loads(json.dumps(v_parse,indent=4))"
   ]
  },
  {
   "cell_type": "code",
   "execution_count": 10,
   "id": "a9da6255",
   "metadata": {},
   "outputs": [
    {
     "data": {
      "text/plain": [
       "{'select': [{'value': 'Orders.OrderID'},\n",
       "  {'value': 'Customers.CustomerName'},\n",
       "  {'value': 'Orders.OrderDate'}],\n",
       " 'from': ['Orders',\n",
       "  {'inner join': 'Customers',\n",
       "   'on': {'eq': ['Orders.CustomerID', 'Customers.CustomerID']}}]}"
      ]
     },
     "execution_count": 10,
     "metadata": {},
     "output_type": "execute_result"
    }
   ],
   "source": [
    "v_json"
   ]
  },
  {
   "cell_type": "code",
   "execution_count": null,
   "id": "0a772d10",
   "metadata": {},
   "outputs": [],
   "source": []
  }
 ],
 "metadata": {
  "kernelspec": {
   "display_name": "Python 3 (ipykernel)",
   "language": "python",
   "name": "python3"
  },
  "language_info": {
   "codemirror_mode": {
    "name": "ipython",
    "version": 3
   },
   "file_extension": ".py",
   "mimetype": "text/x-python",
   "name": "python",
   "nbconvert_exporter": "python",
   "pygments_lexer": "ipython3",
   "version": "3.8.0"
  }
 },
 "nbformat": 4,
 "nbformat_minor": 5
}
