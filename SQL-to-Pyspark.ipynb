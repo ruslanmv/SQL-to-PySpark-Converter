{
 "cells": [
  {
   "cell_type": "code",
   "execution_count": 4,
   "id": "c238b627",
   "metadata": {},
   "outputs": [
    {
     "name": "stdout",
     "output_type": "stream",
     "text": [
      "Requirement already satisfied: beautifulsoup4 in c:\\users\\rusla\\.conda\\envs\\detector\\lib\\site-packages (4.11.2)\n",
      "Requirement already satisfied: soupsieve>1.2 in c:\\users\\rusla\\.conda\\envs\\detector\\lib\\site-packages (from beautifulsoup4) (2.3.2.post1)\n"
     ]
    }
   ],
   "source": []
  },
  {
   "cell_type": "code",
   "execution_count": 2,
   "id": "979bede9",
   "metadata": {},
   "outputs": [
    {
     "name": "stdout",
     "output_type": "stream",
     "text": [
      "Retrieving notices: ...working... done\n",
      "Collecting package metadata (current_repodata.json): ...working... done\n",
      "Solving environment: ...working... failed with initial frozen solve. Retrying with flexible solve.\n",
      "Collecting package metadata (repodata.json): ...working... done\n",
      "Solving environment: ...working... failed with initial frozen solve. Retrying with flexible solve.\n",
      "\n",
      "Note: you may need to restart the kernel to use updated packages.\n"
     ]
    },
    {
     "name": "stderr",
     "output_type": "stream",
     "text": [
      "\n",
      "PackagesNotFoundError: The following packages are not available from current channels:\n",
      "\n",
      "  - cc\n",
      "\n",
      "Current channels:\n",
      "\n",
      "  - https://repo.anaconda.com/pkgs/main/win-64\n",
      "  - https://repo.anaconda.com/pkgs/main/noarch\n",
      "  - https://repo.anaconda.com/pkgs/r/win-64\n",
      "  - https://repo.anaconda.com/pkgs/r/noarch\n",
      "  - https://repo.anaconda.com/pkgs/msys2/win-64\n",
      "  - https://repo.anaconda.com/pkgs/msys2/noarch\n",
      "  - https://conda.anaconda.org/conda-forge/win-64\n",
      "  - https://conda.anaconda.org/conda-forge/noarch\n",
      "\n",
      "To search for alternate channels that may provide the conda package you're\n",
      "looking for, navigate to\n",
      "\n",
      "    https://anaconda.org\n",
      "\n",
      "and use the search bar at the top of the page.\n",
      "\n",
      "\n"
     ]
    }
   ],
   "source": [
    "conda install cc"
   ]
  },
  {
   "cell_type": "code",
   "execution_count": 2,
   "id": "874af995",
   "metadata": {},
   "outputs": [],
   "source": [
    "#!pip download moz_sql_parser"
   ]
  },
  {
   "cell_type": "code",
   "execution_count": 3,
   "id": "074dfc2e",
   "metadata": {},
   "outputs": [],
   "source": [
    "#!pip install moz-sql-parser"
   ]
  },
  {
   "cell_type": "code",
   "execution_count": 1,
   "id": "9580178e",
   "metadata": {},
   "outputs": [
    {
     "ename": "ModuleNotFoundError",
     "evalue": "No module named 'cc'",
     "output_type": "error",
     "traceback": [
      "\u001b[1;31m---------------------------------------------------------------------------\u001b[0m",
      "\u001b[1;31mModuleNotFoundError\u001b[0m                       Traceback (most recent call last)",
      "Cell \u001b[1;32mIn[1], line 1\u001b[0m\n\u001b[1;32m----> 1\u001b[0m \u001b[38;5;28;01mfrom\u001b[39;00m \u001b[38;5;21;01mcc\u001b[39;00m \u001b[38;5;28;01mimport\u001b[39;00m parse\n\u001b[0;32m      2\u001b[0m \u001b[38;5;28;01mfrom\u001b[39;00m \u001b[38;5;21;01mmoz_sql_parser\u001b[39;00m \u001b[38;5;28;01mimport\u001b[39;00m \u001b[38;5;28mformat\u001b[39m\n\u001b[0;32m      3\u001b[0m \u001b[38;5;28;01mimport\u001b[39;00m \u001b[38;5;21;01mjson\u001b[39;00m\n",
      "\u001b[1;31mModuleNotFoundError\u001b[0m: No module named 'cc'"
     ]
    }
   ],
   "source": [
    "from cc import parse\n",
    "from moz_sql_parser import format\n",
    "import json"
   ]
  },
  {
   "cell_type": "code",
   "execution_count": 6,
   "id": "2939b098",
   "metadata": {},
   "outputs": [],
   "source": [
    "query = \"\"\"\n",
    "SELECT product_id,\n",
    "    Count(star_rating) as total_rating,\n",
    "    Max(star_rating)   AS best_rating,\n",
    "    Min(star_rating)   AS worst_rating\n",
    "FROM   tbl_books\n",
    "WHERE  verified_purchase = 'Y'\n",
    "    AND review_date BETWEEN '1995-07-22' AND '2015-08-31'\n",
    "    AND marketplace IN ( 'DE', 'US', 'UK', 'FR', 'JP' )\n",
    "GROUP  BY product_id\n",
    "ORDER  BY total_rating asc,product_id desc,best_rating\n",
    "LIMIT  10;\n",
    "\"\"\""
   ]
  },
  {
   "cell_type": "code",
   "execution_count": 7,
   "id": "def68455",
   "metadata": {},
   "outputs": [],
   "source": [
    "query = \"\"\"\n",
    "SELECT Orders.OrderID, Customers.CustomerName, Orders.OrderDate\n",
    "FROM Orders\n",
    "INNER JOIN Customers ON Orders.CustomerID=Customers.CustomerID;\n",
    "\"\"\""
   ]
  },
  {
   "cell_type": "code",
   "execution_count": 6,
   "id": "54ca3c11",
   "metadata": {},
   "outputs": [
    {
     "ename": "NameError",
     "evalue": "name 'parse' is not defined",
     "output_type": "error",
     "traceback": [
      "\u001b[1;31m---------------------------------------------------------------------------\u001b[0m",
      "\u001b[1;31mNameError\u001b[0m                                 Traceback (most recent call last)",
      "Cell \u001b[1;32mIn[6], line 1\u001b[0m\n\u001b[1;32m----> 1\u001b[0m v_parse \u001b[38;5;241m=\u001b[39m \u001b[43mparse\u001b[49m(query)\n",
      "\u001b[1;31mNameError\u001b[0m: name 'parse' is not defined"
     ]
    }
   ],
   "source": [
    "v_parse = parse(query)"
   ]
  },
  {
   "cell_type": "code",
   "execution_count": 28,
   "id": "8faed764",
   "metadata": {},
   "outputs": [
    {
     "data": {
      "text/plain": [
       "{'select': [{'value': 'Orders.OrderID'},\n",
       "  {'value': 'Customers.CustomerName'},\n",
       "  {'value': 'Orders.OrderDate'}],\n",
       " 'from': ['Orders',\n",
       "  {'inner join': 'Customers',\n",
       "   'on': {'eq': ['Orders.CustomerID', 'Customers.CustomerID']}}]}"
      ]
     },
     "execution_count": 28,
     "metadata": {},
     "output_type": "execute_result"
    }
   ],
   "source": [
    "v_parse"
   ]
  },
  {
   "cell_type": "code",
   "execution_count": 23,
   "id": "1169a0d9",
   "metadata": {},
   "outputs": [],
   "source": [
    "\n",
    "v_json = json.loads(json.dumps(v_parse,indent=4))"
   ]
  },
  {
   "cell_type": "code",
   "execution_count": 24,
   "id": "f7e6ec9f",
   "metadata": {},
   "outputs": [
    {
     "data": {
      "text/plain": [
       "{'select': [{'value': 'Orders.OrderID'},\n",
       "  {'value': 'Customers.CustomerName'},\n",
       "  {'value': 'Orders.OrderDate'}],\n",
       " 'from': ['Orders',\n",
       "  {'inner join': 'Customers',\n",
       "   'on': {'eq': ['Orders.CustomerID', 'Customers.CustomerID']}}]}"
      ]
     },
     "execution_count": 24,
     "metadata": {},
     "output_type": "execute_result"
    }
   ],
   "source": [
    "v_json"
   ]
  },
  {
   "cell_type": "code",
   "execution_count": 25,
   "id": "a86cb991",
   "metadata": {},
   "outputs": [],
   "source": [
    "def fn_from(value):\n",
    "    result_from=\"\"\n",
    "    if type(value) is str:\n",
    "        result_from = format({ \"from\": value })\n",
    "        result_from = result_from[5:]\n",
    "    elif type(value) is dict:\n",
    "        if \"name\" in value.keys():\n",
    "            result_from = result_from + value['value']+\".alias(\\\"\"+value['name']+\"\\\")\"\n",
    "        else:\n",
    "            result_from = result_from + value['value']+\"\"\n",
    "    elif type(value) is list:\n",
    "        for item_from in value:\n",
    "            if type(item_from) is dict:\n",
    "                if \"name\" in item_from.keys():\n",
    "                    result_from = result_from + item_from['value']+\".alias(\\\"\"+item_from['name']+\"\\\"),\"\n",
    "                else:\n",
    "                    result_from = result_from + item_from['value']+\",\"\n",
    "            elif type(item_from) is str:\n",
    "                result_from = result_from + item_from+\",\"\n",
    "    return result_from\n",
    "        \n",
    "\n",
    "def fn_select(value):\n",
    "    result_select=\"\"\n",
    "    if type(value) is str:\n",
    "        result_select = result_select + \"\\\"\"+value+\"\\\",\"\n",
    "    elif type(value) is dict:\n",
    "        if \"name\" in value.keys():\n",
    "            result_select = result_select + \"\\\"\"+value['value']+\"\\\".alias(\\\"\"+value['name']+\"\\\")\"\n",
    "        else:\n",
    "            result_select = result_select + \"\\\"\"+value['value']+\"\\\"\"\n",
    "    elif type(value) is list:\n",
    "        for item_select in value:\n",
    "            if type(item_select) is dict:\n",
    "                if type(item_select['value']) is dict:\n",
    "                    if \"name\" in item_select.keys():\n",
    "                        result_select = result_select + \"\\\"\"+item_select['name']+\"\\\",\"\n",
    "                    else:\n",
    "                        result_select = result_select + \"\\\"\"+item_select['value']+\"\\\".alias(\\\"\"+item_select['name']+\"\\\"),\"\n",
    "                else:\n",
    "                    result_select = result_select + \"\\\"\"+item_select['value']+\"\\\",\"\n",
    "    return result_select[:-1]\n",
    "\n",
    "def fn_where(value):\n",
    "    result_where=\"\"\n",
    "    result_where = format({ \"where\": value })[6:]\n",
    "    return result_where\n",
    "\n",
    "\n",
    "def fn_groupby(value):\n",
    "    result_groupby=\"\"\n",
    "    result_groupby = format({ \"groupby\": value })[9:]\n",
    "    return result_groupby\n",
    "\n",
    "def fn_agg(query):\n",
    "    v_parse = parse(query)\n",
    "    v_agg = \"\"\n",
    "    for i in v_parse[\"select\"]:\n",
    "        if type(i[\"value\"]) is dict:\n",
    "            for key,value in i[\"value\"].items():\n",
    "                v_agg = v_agg + (key+\"(\"+\"col(\\\"\"+str(value)+\"\\\")\"+\").alias('\"+i[\"name\"]+\"')\") +\",\"\n",
    "    v_agg = v_agg.replace(\"\\n\", \"\")\n",
    "    return v_agg[:-1]\n",
    "\n",
    "\n",
    "def fn_orderby(query):\n",
    "    v_parse = parse(query)\n",
    "    v_orderby_collist=\"\"\n",
    "    v_orderby = v_parse[\"orderby\"]\n",
    "    for i in v_orderby:\n",
    "        if i.get(\"sort\", \"asc\") == \"desc\":\n",
    "            v_sortorder = \"desc()\"\n",
    "        else:\n",
    "            v_sortorder = \"asc()\"\n",
    "        v_orderby_collist = v_orderby_collist + \"col(\\\"\"+str(i.get(\"value\", \"\"))+\"\\\").\" +v_sortorder+\",\"\n",
    "    return v_orderby_collist[:-1]\n",
    "\n",
    "\n",
    "def fn_limit(query):\n",
    "    v_parse = parse(query)\n",
    "    v_limit = v_parse[\"limit\"]\n",
    "    return v_limit\n",
    "\n",
    "\n",
    "def fn_genSQL(data):\n",
    "    v_fn_from = v_fn_where = v_fn_groupby = v_fn_agg = v_fn_select = v_fn_orderby = v_fn_limit = \"\"\n",
    "    for key,value in data.items():\n",
    "        # handle from\n",
    "        if str(key)==\"from\":\n",
    "            v_fn_from = fn_from(value)\n",
    "\n",
    "        #handle where\n",
    "        if str(key) ==\"where\":\n",
    "            v_fn_where = fn_where(value)\n",
    "\n",
    "        #handle groupby\n",
    "        if str(key) ==\"groupby\":\n",
    "            v_fn_groupby = fn_groupby(value)\n",
    "\n",
    "        #handle agg\n",
    "        if str(key) ==\"groupby\":\n",
    "            v_fn_agg = fn_agg(query)\n",
    "\n",
    "        #handle select\n",
    "        if str(key) ==\"select\":\n",
    "            v_fn_select = fn_select(value)\n",
    "\n",
    "        #handle sort\n",
    "        if str(key) ==\"orderby\":\n",
    "            v_fn_orderby = fn_orderby(query)\n",
    "\n",
    "        #handle limit\n",
    "        if str(key) ==\"limit\":\n",
    "            v_fn_limit = fn_limit(query)\n",
    "\n",
    "    v_final_stmt = \"\"\n",
    "    if v_fn_from:\n",
    "        v_final_stmt = v_final_stmt + v_fn_from\n",
    "    if v_fn_where:\n",
    "        v_final_stmt = v_final_stmt + \"\\n.filter(\\\"\"+v_fn_where+\"\\\")\"\n",
    "    if v_fn_groupby:\n",
    "        v_final_stmt = v_final_stmt + \"\\n.groupBy(\\\"\"+v_fn_groupby+\"\\\")\"\n",
    "    if v_fn_agg:\n",
    "        v_final_stmt = v_final_stmt + \"\\n.agg(\"+v_fn_agg+\"\\\")\"\n",
    "    if v_fn_select:\n",
    "        v_final_stmt = v_final_stmt + \"\\n.select(\"+v_fn_select+\")\"\n",
    "    if v_fn_orderby:\n",
    "        v_final_stmt = v_final_stmt + \"\\n.orderBy(\"+v_fn_orderby+\")\"\n",
    "    if v_fn_limit:\n",
    "        v_final_stmt = v_final_stmt + \"\\n.limit(\"+str(v_fn_limit)+\")\"\n",
    "    \n",
    "    return v_final_stmt"
   ]
  },
  {
   "cell_type": "code",
   "execution_count": 26,
   "id": "784fe477",
   "metadata": {},
   "outputs": [
    {
     "ename": "KeyError",
     "evalue": "'value'",
     "output_type": "error",
     "traceback": [
      "\u001b[1;31m---------------------------------------------------------------------------\u001b[0m",
      "\u001b[1;31mKeyError\u001b[0m                                  Traceback (most recent call last)",
      "Cell \u001b[1;32mIn[26], line 1\u001b[0m\n\u001b[1;32m----> 1\u001b[0m \u001b[38;5;28mprint\u001b[39m(\u001b[43mfn_genSQL\u001b[49m\u001b[43m(\u001b[49m\u001b[43mv_json\u001b[49m\u001b[43m)\u001b[49m)\n",
      "Cell \u001b[1;32mIn[25], line 90\u001b[0m, in \u001b[0;36mfn_genSQL\u001b[1;34m(data)\u001b[0m\n\u001b[0;32m     87\u001b[0m \u001b[38;5;28;01mfor\u001b[39;00m key,value \u001b[38;5;129;01min\u001b[39;00m data\u001b[38;5;241m.\u001b[39mitems():\n\u001b[0;32m     88\u001b[0m     \u001b[38;5;66;03m# handle from\u001b[39;00m\n\u001b[0;32m     89\u001b[0m     \u001b[38;5;28;01mif\u001b[39;00m \u001b[38;5;28mstr\u001b[39m(key)\u001b[38;5;241m==\u001b[39m\u001b[38;5;124m\"\u001b[39m\u001b[38;5;124mfrom\u001b[39m\u001b[38;5;124m\"\u001b[39m:\n\u001b[1;32m---> 90\u001b[0m         v_fn_from \u001b[38;5;241m=\u001b[39m \u001b[43mfn_from\u001b[49m\u001b[43m(\u001b[49m\u001b[43mvalue\u001b[49m\u001b[43m)\u001b[49m\n\u001b[0;32m     92\u001b[0m     \u001b[38;5;66;03m#handle where\u001b[39;00m\n\u001b[0;32m     93\u001b[0m     \u001b[38;5;28;01mif\u001b[39;00m \u001b[38;5;28mstr\u001b[39m(key) \u001b[38;5;241m==\u001b[39m\u001b[38;5;124m\"\u001b[39m\u001b[38;5;124mwhere\u001b[39m\u001b[38;5;124m\"\u001b[39m:\n",
      "Cell \u001b[1;32mIn[25], line 17\u001b[0m, in \u001b[0;36mfn_from\u001b[1;34m(value)\u001b[0m\n\u001b[0;32m     15\u001b[0m         result_from \u001b[38;5;241m=\u001b[39m result_from \u001b[38;5;241m+\u001b[39m item_from[\u001b[38;5;124m'\u001b[39m\u001b[38;5;124mvalue\u001b[39m\u001b[38;5;124m'\u001b[39m]\u001b[38;5;241m+\u001b[39m\u001b[38;5;124m\"\u001b[39m\u001b[38;5;124m.alias(\u001b[39m\u001b[38;5;130;01m\\\"\u001b[39;00m\u001b[38;5;124m\"\u001b[39m\u001b[38;5;241m+\u001b[39mitem_from[\u001b[38;5;124m'\u001b[39m\u001b[38;5;124mname\u001b[39m\u001b[38;5;124m'\u001b[39m]\u001b[38;5;241m+\u001b[39m\u001b[38;5;124m\"\u001b[39m\u001b[38;5;130;01m\\\"\u001b[39;00m\u001b[38;5;124m),\u001b[39m\u001b[38;5;124m\"\u001b[39m\n\u001b[0;32m     16\u001b[0m     \u001b[38;5;28;01melse\u001b[39;00m:\n\u001b[1;32m---> 17\u001b[0m         result_from \u001b[38;5;241m=\u001b[39m result_from \u001b[38;5;241m+\u001b[39m \u001b[43mitem_from\u001b[49m\u001b[43m[\u001b[49m\u001b[38;5;124;43m'\u001b[39;49m\u001b[38;5;124;43mvalue\u001b[39;49m\u001b[38;5;124;43m'\u001b[39;49m\u001b[43m]\u001b[49m\u001b[38;5;241m+\u001b[39m\u001b[38;5;124m\"\u001b[39m\u001b[38;5;124m,\u001b[39m\u001b[38;5;124m\"\u001b[39m\n\u001b[0;32m     18\u001b[0m \u001b[38;5;28;01melif\u001b[39;00m \u001b[38;5;28mtype\u001b[39m(item_from) \u001b[38;5;129;01mis\u001b[39;00m \u001b[38;5;28mstr\u001b[39m:\n\u001b[0;32m     19\u001b[0m     result_from \u001b[38;5;241m=\u001b[39m result_from \u001b[38;5;241m+\u001b[39m item_from\u001b[38;5;241m+\u001b[39m\u001b[38;5;124m\"\u001b[39m\u001b[38;5;124m,\u001b[39m\u001b[38;5;124m\"\u001b[39m\n",
      "\u001b[1;31mKeyError\u001b[0m: 'value'"
     ]
    }
   ],
   "source": [
    "print(fn_genSQL(v_json))"
   ]
  },
  {
   "cell_type": "code",
   "execution_count": null,
   "id": "05f2ba64",
   "metadata": {},
   "outputs": [],
   "source": []
  }
 ],
 "metadata": {
  "kernelspec": {
   "display_name": "Python 3 (ipykernel)",
   "language": "python",
   "name": "python3"
  },
  "language_info": {
   "codemirror_mode": {
    "name": "ipython",
    "version": 3
   },
   "file_extension": ".py",
   "mimetype": "text/x-python",
   "name": "python",
   "nbconvert_exporter": "python",
   "pygments_lexer": "ipython3",
   "version": "3.8.0"
  }
 },
 "nbformat": 4,
 "nbformat_minor": 5
}
